{
 "cells": [
  {
   "cell_type": "code",
   "execution_count": 1,
   "id": "0808a47f",
   "metadata": {},
   "outputs": [],
   "source": [
    "import pandas as pd\n",
    "import numpy as np\n",
    "import matplotlib.pyplot as plt\n",
    "import seaborn as sns\n",
    "import re"
   ]
  },
  {
   "cell_type": "code",
   "execution_count": 2,
   "id": "1df99093",
   "metadata": {},
   "outputs": [
    {
     "data": {
      "text/html": [
       "<div>\n",
       "<style scoped>\n",
       "    .dataframe tbody tr th:only-of-type {\n",
       "        vertical-align: middle;\n",
       "    }\n",
       "\n",
       "    .dataframe tbody tr th {\n",
       "        vertical-align: top;\n",
       "    }\n",
       "\n",
       "    .dataframe thead th {\n",
       "        text-align: right;\n",
       "    }\n",
       "</style>\n",
       "<table border=\"1\" class=\"dataframe\">\n",
       "  <thead>\n",
       "    <tr style=\"text-align: right;\">\n",
       "      <th></th>\n",
       "      <th>Unnamed: 0</th>\n",
       "      <th>ID  объявления</th>\n",
       "      <th>Количество комнат</th>\n",
       "      <th>Тип</th>\n",
       "      <th>Метро</th>\n",
       "      <th>Адрес</th>\n",
       "      <th>Площадь, м2</th>\n",
       "      <th>Дом</th>\n",
       "      <th>Парковка</th>\n",
       "      <th>Цена</th>\n",
       "      <th>...</th>\n",
       "      <th>Окна</th>\n",
       "      <th>Санузел</th>\n",
       "      <th>Можно с детьми/животными</th>\n",
       "      <th>Дополнительно</th>\n",
       "      <th>Название ЖК</th>\n",
       "      <th>Серия дома</th>\n",
       "      <th>Высота потолков, м</th>\n",
       "      <th>Лифт</th>\n",
       "      <th>Мусоропровод</th>\n",
       "      <th>Ссылка на объявление</th>\n",
       "    </tr>\n",
       "  </thead>\n",
       "  <tbody>\n",
       "    <tr>\n",
       "      <th>0</th>\n",
       "      <td>0</td>\n",
       "      <td>271271157</td>\n",
       "      <td>4</td>\n",
       "      <td>Квартира</td>\n",
       "      <td>м. Смоленская (9 мин пешком)</td>\n",
       "      <td>Москва, улица Новый Арбат, 27</td>\n",
       "      <td>200.0/20.0</td>\n",
       "      <td>5/16, Монолитный</td>\n",
       "      <td>подземная</td>\n",
       "      <td>500000.0 руб./ За месяц, Залог - 500000 руб., ...</td>\n",
       "      <td>...</td>\n",
       "      <td>NaN</td>\n",
       "      <td>NaN</td>\n",
       "      <td>Можно с детьми, Можно с животными</td>\n",
       "      <td>Мебель в комнатах, Мебель на кухне, Ванна, Душ...</td>\n",
       "      <td>Новый Арбат, 2010</td>\n",
       "      <td>NaN</td>\n",
       "      <td>3.0</td>\n",
       "      <td>Пасс (4), Груз (1)</td>\n",
       "      <td>Да</td>\n",
       "      <td>https://www.cian.ru/rent/flat/271271157</td>\n",
       "    </tr>\n",
       "    <tr>\n",
       "      <th>1</th>\n",
       "      <td>1</td>\n",
       "      <td>271634126</td>\n",
       "      <td>4</td>\n",
       "      <td>Квартира</td>\n",
       "      <td>м. Смоленская (8 мин пешком)</td>\n",
       "      <td>Москва, улица Новый Арбат, 27</td>\n",
       "      <td>198.0/95.0/18.0</td>\n",
       "      <td>5/16, Монолитно-кирпичный</td>\n",
       "      <td>подземная</td>\n",
       "      <td>500000.0 руб./ За месяц, Залог - 500000 руб., ...</td>\n",
       "      <td>...</td>\n",
       "      <td>На улицу и двор</td>\n",
       "      <td>Совмещенный (2), Раздельный (1)</td>\n",
       "      <td>Можно с детьми</td>\n",
       "      <td>Мебель в комнатах, Мебель на кухне, Ванна, Душ...</td>\n",
       "      <td>Новый Арбат</td>\n",
       "      <td>NaN</td>\n",
       "      <td>3.5</td>\n",
       "      <td>Пасс (1), Груз (1)</td>\n",
       "      <td>Нет</td>\n",
       "      <td>https://www.cian.ru/rent/flat/271634126</td>\n",
       "    </tr>\n",
       "  </tbody>\n",
       "</table>\n",
       "<p>2 rows × 25 columns</p>\n",
       "</div>"
      ],
      "text/plain": [
       "   Unnamed: 0  ID  объявления Количество комнат       Тип  \\\n",
       "0           0       271271157                 4  Квартира   \n",
       "1           1       271634126                 4  Квартира   \n",
       "\n",
       "                          Метро                          Адрес  \\\n",
       "0  м. Смоленская (9 мин пешком)  Москва, улица Новый Арбат, 27   \n",
       "1  м. Смоленская (8 мин пешком)  Москва, улица Новый Арбат, 27   \n",
       "\n",
       "       Площадь, м2                        Дом   Парковка  \\\n",
       "0       200.0/20.0           5/16, Монолитный  подземная   \n",
       "1  198.0/95.0/18.0  5/16, Монолитно-кирпичный  подземная   \n",
       "\n",
       "                                                Цена  ...             Окна  \\\n",
       "0  500000.0 руб./ За месяц, Залог - 500000 руб., ...  ...              NaN   \n",
       "1  500000.0 руб./ За месяц, Залог - 500000 руб., ...  ...  На улицу и двор   \n",
       "\n",
       "                           Санузел           Можно с детьми/животными  \\\n",
       "0                              NaN  Можно с детьми, Можно с животными   \n",
       "1  Совмещенный (2), Раздельный (1)                     Можно с детьми   \n",
       "\n",
       "                                       Дополнительно        Название ЖК  \\\n",
       "0  Мебель в комнатах, Мебель на кухне, Ванна, Душ...  Новый Арбат, 2010   \n",
       "1  Мебель в комнатах, Мебель на кухне, Ванна, Душ...        Новый Арбат   \n",
       "\n",
       "  Серия дома Высота потолков, м                Лифт Мусоропровод  \\\n",
       "0        NaN                3.0  Пасс (4), Груз (1)           Да   \n",
       "1        NaN                3.5  Пасс (1), Груз (1)          Нет   \n",
       "\n",
       "                      Ссылка на объявление  \n",
       "0  https://www.cian.ru/rent/flat/271271157  \n",
       "1  https://www.cian.ru/rent/flat/271634126  \n",
       "\n",
       "[2 rows x 25 columns]"
      ]
     },
     "execution_count": 2,
     "metadata": {},
     "output_type": "execute_result"
    }
   ],
   "source": [
    "df_original = pd.read_csv('../data/_data.csv')\n",
    "df = df_original.copy()\n",
    "df.head(2)"
   ]
  },
  {
   "cell_type": "code",
   "execution_count": 3,
   "id": "5f3d2b67",
   "metadata": {},
   "outputs": [
    {
     "data": {
      "text/plain": [
       "Unnamed: 0                      0\n",
       "ID  объявления                  0\n",
       "Количество комнат            1041\n",
       "Тип                             0\n",
       "Метро                        1315\n",
       "Адрес                           0\n",
       "Площадь, м2                     0\n",
       "Дом                             0\n",
       "Парковка                    13417\n",
       "Цена                            0\n",
       "Телефоны                        0\n",
       "Описание                        0\n",
       "Ремонт                       2755\n",
       "Площадь комнат, м2           8910\n",
       "Балкон                       7978\n",
       "Окна                         6613\n",
       "Санузел                      2672\n",
       "Можно с детьми/животными     6096\n",
       "Дополнительно                 357\n",
       "Название ЖК                 17520\n",
       "Серия дома                  21205\n",
       "Высота потолков, м          12162\n",
       "Лифт                         5500\n",
       "Мусоропровод                10522\n",
       "Ссылка на объявление            0\n",
       "dtype: int64"
      ]
     },
     "execution_count": 3,
     "metadata": {},
     "output_type": "execute_result"
    }
   ],
   "source": [
    "# 1. проверяем в каких колонках есть пропуски\n",
    "df.isna().sum()"
   ]
  },
  {
   "cell_type": "code",
   "execution_count": 4,
   "id": "af24dace",
   "metadata": {},
   "outputs": [],
   "source": [
    "# 23368 rows × 25 columns\n",
    "# 1. заполняем пропуски:\n",
    "# судя по пропускам можно удалить столбец \"Серия дома\" и \"Название ЖК\" 1\n",
    "# \"Количество комнат\" удаляем выбросы заполняем медианой по общей площади (или удалить строки с нулями) 1\n",
    "# \"Метро\" заполним 'unknown' (или удалить строки с нулями) 1\n",
    "# \"Парковка\" удаляем выбросы заполняем моду или может 'unknown'\n",
    "# \"Ремонт\" удаляем выбросы заполняем модой\n",
    "# \"Площадь комнат, м2\" удаляем выбросы заполняем медианой по общей площади\n",
    "# \"Балкон\" 'unknown'\n",
    "# \"Окна\" удаляем выбросы заполняем модой\n",
    "# \"Санузел\" удаляем выбросы заполняем модой ----\n",
    "# \"Можно с детьми/животными\" заполним 'unknown'\n",
    "# \"Дополнительно\" заполним 'unknown'\n",
    "# \"Название ЖК\" удалим стобец\n",
    "# \"Серия дома\" удалить столбец\n",
    "# \"Высота потолков\" удаляем выбросы и заполняем медианой по высоте потолков\n",
    "# \"Лифт\" 'unknown'\n",
    "# \"Мусоропровод\" 'unknown'  может удалить столбец потому что по графику нет зависимости от цены"
   ]
  },
  {
   "cell_type": "code",
   "execution_count": 5,
   "id": "e17568d9",
   "metadata": {},
   "outputs": [
    {
     "data": {
      "text/html": [
       "<div>\n",
       "<style scoped>\n",
       "    .dataframe tbody tr th:only-of-type {\n",
       "        vertical-align: middle;\n",
       "    }\n",
       "\n",
       "    .dataframe tbody tr th {\n",
       "        vertical-align: top;\n",
       "    }\n",
       "\n",
       "    .dataframe thead th {\n",
       "        text-align: right;\n",
       "    }\n",
       "</style>\n",
       "<table border=\"1\" class=\"dataframe\">\n",
       "  <thead>\n",
       "    <tr style=\"text-align: right;\">\n",
       "      <th></th>\n",
       "      <th>Unnamed: 0</th>\n",
       "      <th>ID  объявления</th>\n",
       "      <th>Количество комнат</th>\n",
       "      <th>Тип</th>\n",
       "      <th>Метро</th>\n",
       "      <th>Адрес</th>\n",
       "      <th>Площадь, м2</th>\n",
       "      <th>Дом</th>\n",
       "      <th>Парковка</th>\n",
       "      <th>Цена</th>\n",
       "      <th>...</th>\n",
       "      <th>Площадь комнат, м2</th>\n",
       "      <th>Балкон</th>\n",
       "      <th>Окна</th>\n",
       "      <th>Санузел</th>\n",
       "      <th>Можно с детьми/животными</th>\n",
       "      <th>Дополнительно</th>\n",
       "      <th>Высота потолков, м</th>\n",
       "      <th>Лифт</th>\n",
       "      <th>Мусоропровод</th>\n",
       "      <th>Ссылка на объявление</th>\n",
       "    </tr>\n",
       "  </thead>\n",
       "  <tbody>\n",
       "    <tr>\n",
       "      <th>0</th>\n",
       "      <td>0</td>\n",
       "      <td>271271157</td>\n",
       "      <td>4</td>\n",
       "      <td>Квартира</td>\n",
       "      <td>м. Смоленская (9 мин пешком)</td>\n",
       "      <td>Москва, улица Новый Арбат, 27</td>\n",
       "      <td>200.0/20.0</td>\n",
       "      <td>5/16, Монолитный</td>\n",
       "      <td>подземная</td>\n",
       "      <td>500000.0 руб./ За месяц, Залог - 500000 руб., ...</td>\n",
       "      <td>...</td>\n",
       "      <td>NaN</td>\n",
       "      <td>NaN</td>\n",
       "      <td>NaN</td>\n",
       "      <td>NaN</td>\n",
       "      <td>Можно с детьми, Можно с животными</td>\n",
       "      <td>Мебель в комнатах, Мебель на кухне, Ванна, Душ...</td>\n",
       "      <td>3.0</td>\n",
       "      <td>Пасс (4), Груз (1)</td>\n",
       "      <td>Да</td>\n",
       "      <td>https://www.cian.ru/rent/flat/271271157</td>\n",
       "    </tr>\n",
       "    <tr>\n",
       "      <th>1</th>\n",
       "      <td>1</td>\n",
       "      <td>271634126</td>\n",
       "      <td>4</td>\n",
       "      <td>Квартира</td>\n",
       "      <td>м. Смоленская (8 мин пешком)</td>\n",
       "      <td>Москва, улица Новый Арбат, 27</td>\n",
       "      <td>198.0/95.0/18.0</td>\n",
       "      <td>5/16, Монолитно-кирпичный</td>\n",
       "      <td>подземная</td>\n",
       "      <td>500000.0 руб./ За месяц, Залог - 500000 руб., ...</td>\n",
       "      <td>...</td>\n",
       "      <td>25 25 20 25</td>\n",
       "      <td>NaN</td>\n",
       "      <td>На улицу и двор</td>\n",
       "      <td>Совмещенный (2), Раздельный (1)</td>\n",
       "      <td>Можно с детьми</td>\n",
       "      <td>Мебель в комнатах, Мебель на кухне, Ванна, Душ...</td>\n",
       "      <td>3.5</td>\n",
       "      <td>Пасс (1), Груз (1)</td>\n",
       "      <td>Нет</td>\n",
       "      <td>https://www.cian.ru/rent/flat/271634126</td>\n",
       "    </tr>\n",
       "  </tbody>\n",
       "</table>\n",
       "<p>2 rows × 23 columns</p>\n",
       "</div>"
      ],
      "text/plain": [
       "   Unnamed: 0  ID  объявления Количество комнат       Тип  \\\n",
       "0           0       271271157                 4  Квартира   \n",
       "1           1       271634126                 4  Квартира   \n",
       "\n",
       "                          Метро                          Адрес  \\\n",
       "0  м. Смоленская (9 мин пешком)  Москва, улица Новый Арбат, 27   \n",
       "1  м. Смоленская (8 мин пешком)  Москва, улица Новый Арбат, 27   \n",
       "\n",
       "       Площадь, м2                        Дом   Парковка  \\\n",
       "0       200.0/20.0           5/16, Монолитный  подземная   \n",
       "1  198.0/95.0/18.0  5/16, Монолитно-кирпичный  подземная   \n",
       "\n",
       "                                                Цена  ... Площадь комнат, м2  \\\n",
       "0  500000.0 руб./ За месяц, Залог - 500000 руб., ...  ...                NaN   \n",
       "1  500000.0 руб./ За месяц, Залог - 500000 руб., ...  ...        25 25 20 25   \n",
       "\n",
       "  Балкон             Окна                          Санузел  \\\n",
       "0    NaN              NaN                              NaN   \n",
       "1    NaN  На улицу и двор  Совмещенный (2), Раздельный (1)   \n",
       "\n",
       "            Можно с детьми/животными  \\\n",
       "0  Можно с детьми, Можно с животными   \n",
       "1                     Можно с детьми   \n",
       "\n",
       "                                       Дополнительно Высота потолков, м  \\\n",
       "0  Мебель в комнатах, Мебель на кухне, Ванна, Душ...                3.0   \n",
       "1  Мебель в комнатах, Мебель на кухне, Ванна, Душ...                3.5   \n",
       "\n",
       "                 Лифт Мусоропровод                     Ссылка на объявление  \n",
       "0  Пасс (4), Груз (1)           Да  https://www.cian.ru/rent/flat/271271157  \n",
       "1  Пасс (1), Груз (1)          Нет  https://www.cian.ru/rent/flat/271634126  \n",
       "\n",
       "[2 rows x 23 columns]"
      ]
     },
     "execution_count": 5,
     "metadata": {},
     "output_type": "execute_result"
    }
   ],
   "source": [
    "# 2. удаляем столбцы \"Серия дома\" и \"Название ЖК\"\n",
    "df.drop(columns=['Серия дома', 'Название ЖК'], inplace=True)\n",
    "df.head(2)"
   ]
  },
  {
   "cell_type": "code",
   "execution_count": 6,
   "id": "d826c5f9",
   "metadata": {},
   "outputs": [
    {
     "data": {
      "text/plain": [
       "(23368, 23)"
      ]
     },
     "execution_count": 6,
     "metadata": {},
     "output_type": "execute_result"
    }
   ],
   "source": [
    "# 3. проверяем нет ли дублей, если есть удаляем\n",
    "df.drop_duplicates(inplace=True)\n",
    "df.shape"
   ]
  },
  {
   "cell_type": "code",
   "execution_count": 7,
   "id": "77526087",
   "metadata": {},
   "outputs": [],
   "source": [
    "# 4.\"Количество комнат\" заполняем отсутствующие данные медианой по общей площади\n",
    "# преобразуем столбец 'Количество комнат' в числовой тип, заменяя некорректные значения на NaN\n",
    "df['Количество комнат'] = pd.to_numeric(df['Количество комнат'], errors='coerce')\n",
    "# создаём два новых столбца: 'Общая площадь, м2' и 'Жилая площадь, м2'\n",
    "def extract_areas(area_str):\n",
    "    try:\n",
    "        parts = area_str.split('/')\n",
    "        total_area = float(parts[0]) if len(parts) > 0 else None\n",
    "        living_area = float(parts[1]) if len(parts) > 1 else None\n",
    "        return pd.Series([total_area, living_area])\n",
    "    except:\n",
    "        return pd.Series([None, None])\n",
    "df[['Общая площадь, м2', 'Жилая площадь, м2']] = df['Площадь, м2'].apply(extract_areas)\n",
    "# группируем по 'Общая площадь, м2' и вычисляем медиану для каждой группы\n",
    "medians = df.groupby('Общая площадь, м2')['Количество комнат'].transform('median')\n",
    "# заменяем NaN значения в 'Количество комнат' на медиану соответствующей группы\n",
    "df['Количество комнат'] = df['Количество комнат'].fillna(medians)\n",
    "# чтобы дробных чисел не было\n",
    "df['Количество комнат'] = df['Количество комнат'].round().astype('Int64')\n",
    "# Заполним NA медианой по всему столбцу (после округления)\n",
    "global_med = df['Количество комнат'].median()  # это может быть float или Int64\n",
    "df['Количество комнат'] = df['Количество комнат'].fillna(global_med).astype('Int64')\n"
   ]
  },
  {
   "cell_type": "code",
   "execution_count": 8,
   "id": "34d50f2e",
   "metadata": {},
   "outputs": [],
   "source": [
    "# отсутствующие значения \"Метро\" заменим на 'unknown'\n",
    "# добавим столбец метро без времени до него\n",
    "df['Станция Метро'] = df['Метро'].str.split('(').str[0].str.strip()\n",
    "# заменяем  NaN на 'unknown'\n",
    "df['Станция Метро'] = df['Станция Метро'].fillna('unknown')\n",
    "# заменяем строки, которые пустые или содержат только пробелы на 'unknown'\n",
    "df['Станция Метро'] = df['Станция Метро'].replace(r'^\\s*$', 'unknown', regex=True)"
   ]
  },
  {
   "cell_type": "code",
   "execution_count": 9,
   "id": "b6b38e76",
   "metadata": {},
   "outputs": [
    {
     "data": {
      "text/plain": [
       "array(['подземная', nan, 'наземная', 'открытая', 'многоуровневая',\n",
       "       'на крыше'], dtype=object)"
      ]
     },
     "execution_count": 9,
     "metadata": {},
     "output_type": "execute_result"
    }
   ],
   "source": [
    "df['Парковка'].unique()\n"
   ]
  },
  {
   "cell_type": "code",
   "execution_count": 10,
   "id": "7544fcf6",
   "metadata": {},
   "outputs": [
    {
     "name": "stdout",
     "output_type": "stream",
     "text": [
      "13417\n"
     ]
    }
   ],
   "source": [
    "# \"Парковка\" удаляем выбросы заполняем моду или может 'unknown'\n",
    "# Проверяем количество пропущенных значений в столбце 'Парковка'\n",
    "missing_values_count = df['Парковка'].isna().sum()\n",
    "print(missing_values_count)\n"
   ]
  },
  {
   "cell_type": "code",
   "execution_count": 11,
   "id": "bea0763d",
   "metadata": {},
   "outputs": [
    {
     "data": {
      "text/plain": [
       "Unnamed: 0                      0\n",
       "ID  объявления                  0\n",
       "Количество комнат               0\n",
       "Тип                             0\n",
       "Метро                        1315\n",
       "Адрес                           0\n",
       "Площадь, м2                     0\n",
       "Дом                             0\n",
       "Парковка                    13417\n",
       "Цена                            0\n",
       "Телефоны                        0\n",
       "Описание                        0\n",
       "Ремонт                       2755\n",
       "Площадь комнат, м2           8910\n",
       "Балкон                       7978\n",
       "Окна                         6613\n",
       "Санузел                      2672\n",
       "Можно с детьми/животными     6096\n",
       "Дополнительно                 357\n",
       "Высота потолков, м          12162\n",
       "Лифт                         5500\n",
       "Мусоропровод                10522\n",
       "Ссылка на объявление            0\n",
       "Общая площадь, м2               0\n",
       "Жилая площадь, м2            3060\n",
       "Станция Метро                   0\n",
       "dtype: int64"
      ]
     },
     "execution_count": 11,
     "metadata": {},
     "output_type": "execute_result"
    }
   ],
   "source": [
    "df.isna().sum()"
   ]
  },
  {
   "cell_type": "code",
   "execution_count": 12,
   "id": "74ebb1e2",
   "metadata": {},
   "outputs": [
    {
     "data": {
      "text/plain": [
       "(23368, 26)"
      ]
     },
     "execution_count": 12,
     "metadata": {},
     "output_type": "execute_result"
    }
   ],
   "source": [
    "df.shape"
   ]
  },
  {
   "cell_type": "code",
   "execution_count": null,
   "id": "15e9c38b",
   "metadata": {},
   "outputs": [],
   "source": []
  },
  {
   "cell_type": "code",
   "execution_count": 13,
   "id": "f29cccea",
   "metadata": {},
   "outputs": [
    {
     "data": {
      "text/plain": [
       "<bound method Series.mean of 0        3.00\n",
       "1        3.50\n",
       "2        3.20\n",
       "3        3.20\n",
       "4        3.90\n",
       "         ... \n",
       "23356    2.50\n",
       "23357    2.65\n",
       "23360    2.64\n",
       "23361    2.64\n",
       "23366    2.65\n",
       "Name: Высота потолков, м, Length: 11189, dtype: float64>"
      ]
     },
     "execution_count": 13,
     "metadata": {},
     "output_type": "execute_result"
    }
   ],
   "source": [
    "#рассчет среднего значения без выбросов по высоте потолков\n",
    "df_mean = df['Высота потолков, м'].mean()\n",
    "df_std = df['Высота потолков, м'].std()\n",
    "df_filtered = df[(df['Высота потолков, м']> df_mean - 2*df_std) & (df['Высота потолков, м']<df_mean + 2*df_std)]\n",
    "df_filtered['Высота потолков, м'].mean"
   ]
  },
  {
   "cell_type": "code",
   "execution_count": 14,
   "metadata": {},
   "outputs": [],
   "source": [
    "# Заполняем пустые значения в столбце \"Можно с детьми/животными\" 'unknown'\n",
    "df['Можно с детьми/животными'] = df['Можно с детьми/животными'].fillna('unknown') \n",
    "# Заполняем пустые значения в столбце \"Дополнительно\" 'unknown'\n",
    "df['Дополнительно'] = df['Дополнительно'].fillna('unknown')\n",
    "# Заполняем пустые значения в столбце \"Лифт\" 'unknown'\n",
    "df['Лифт'] = df['Лифт'].fillna('unknown')\n",
    "# Заполняем пустые значения в столбце \"Мусоропровод\" 'unknown'\n",
    "df['Мусоропровод'] = df['Мусоропровод'].fillna('unknown')\n",
    "# Заполняем пустые значения в столбце \"Высотка потолков\" средним значением по датафрейму с удаленными выбросами(3.00)\n",
    "df['Высота потолков, м'] = df['Высота потолков, м'].fillna(3.00)"
   ]
  },
  {
   "cell_type": "code",
   "execution_count": 15,
   "id": "d12d9283",
   "metadata": {},
   "outputs": [],
   "source": [
    "#оставшиеся категориальные признаки меняем на моду\n",
    "#оставшиеся численные признаки меняем на медиану\n",
    "missed_values = df.isna().sum()\n",
    "missed_values = missed_values[missed_values > 0]\n",
    "df_filled = df[missed_values.index].copy()\n",
    "for col in df_filled.columns:\n",
    "    if df_filled[col].dtype == 'object': # Категориальные признаки\n",
    "        df_filled[col] = df_filled[col].fillna(df_filled[col].mode()[0])\n",
    "    else: # Численные признаки\n",
    "        df_filled[col] = df_filled[col].fillna(df_filled[col].median())"
   ]
  },
  {
   "cell_type": "code",
   "execution_count": 16,
   "id": "c0bcb1da",
   "metadata": {},
   "outputs": [],
   "source": [
    "df3 = pd.concat([df,df_filled], axis=1)"
   ]
  },
  {
   "cell_type": "code",
   "execution_count": null,
   "id": "ed379047",
   "metadata": {},
   "outputs": [],
   "source": [
    "# Фильтруем по адресу с упоминанием \"Москва\"\n",
    "moscow_flats = df[df['address'].str.contains('Москва', case=False, na=False)]\n",
    "\n",
    "# Считаем количество\n",
    "num_moscow_flats = len(moscow_flats)\n",
    "\n",
    "print(f\"Количество квартир в Москве: {num_moscow_flats}\")\n"
   ]
  },
  {
   "cell_type": "code",
   "execution_count": null,
   "id": "68457aaf",
   "metadata": {},
   "outputs": [],
   "source": []
  },
  {
   "cell_type": "code",
   "execution_count": null,
   "id": "e87a7aa6",
   "metadata": {},
   "outputs": [],
   "source": []
  },
  {
   "cell_type": "code",
   "execution_count": 17,
   "id": "b91ee2f6",
   "metadata": {},
   "outputs": [
    {
     "name": "stderr",
     "output_type": "stream",
     "text": [
      "/tmp/ipykernel_7509/1354217526.py:2: FutureWarning: A value is trying to be set on a copy of a DataFrame or Series through chained assignment using an inplace method.\n",
      "The behavior will change in pandas 3.0. This inplace method will never work because the intermediate object on which we are setting values always behaves as a copy.\n",
      "\n",
      "For example, when doing 'df[col].method(value, inplace=True)', try using 'df.method({col: value}, inplace=True)' or df[col] = df[col].method(value) instead, to perform the operation inplace on the original object.\n",
      "\n",
      "\n",
      "  df['Метро'].fillna(False, inplace=True)\n",
      "/tmp/ipykernel_7509/1354217526.py:4: FutureWarning: A value is trying to be set on a copy of a DataFrame or Series through chained assignment using an inplace method.\n",
      "The behavior will change in pandas 3.0. This inplace method will never work because the intermediate object on which we are setting values always behaves as a copy.\n",
      "\n",
      "For example, when doing 'df[col].method(value, inplace=True)', try using 'df.method({col: value}, inplace=True)' or df[col] = df[col].method(value) instead, to perform the operation inplace on the original object.\n",
      "\n",
      "\n",
      "  df['Парковка'].fillna(df['Парковка'].mode()[0], inplace=True)\n",
      "/tmp/ipykernel_7509/1354217526.py:6: FutureWarning: A value is trying to be set on a copy of a DataFrame or Series through chained assignment using an inplace method.\n",
      "The behavior will change in pandas 3.0. This inplace method will never work because the intermediate object on which we are setting values always behaves as a copy.\n",
      "\n",
      "For example, when doing 'df[col].method(value, inplace=True)', try using 'df.method({col: value}, inplace=True)' or df[col] = df[col].method(value) instead, to perform the operation inplace on the original object.\n",
      "\n",
      "\n",
      "  df['Ремонт'].fillna(df['Ремонт'].mode()[0], inplace=True)\n",
      "/tmp/ipykernel_7509/1354217526.py:8: FutureWarning: A value is trying to be set on a copy of a DataFrame or Series through chained assignment using an inplace method.\n",
      "The behavior will change in pandas 3.0. This inplace method will never work because the intermediate object on which we are setting values always behaves as a copy.\n",
      "\n",
      "For example, when doing 'df[col].method(value, inplace=True)', try using 'df.method({col: value}, inplace=True)' or df[col] = df[col].method(value) instead, to perform the operation inplace on the original object.\n",
      "\n",
      "\n",
      "  df['Окна'].fillna(df['Окна'].mode()[0], inplace=True)\n",
      "/tmp/ipykernel_7509/1354217526.py:10: FutureWarning: A value is trying to be set on a copy of a DataFrame or Series through chained assignment using an inplace method.\n",
      "The behavior will change in pandas 3.0. This inplace method will never work because the intermediate object on which we are setting values always behaves as a copy.\n",
      "\n",
      "For example, when doing 'df[col].method(value, inplace=True)', try using 'df.method({col: value}, inplace=True)' or df[col] = df[col].method(value) instead, to perform the operation inplace on the original object.\n",
      "\n",
      "\n",
      "  df['Санузел'].fillna(df['Санузел'].mode()[0], inplace=True)\n",
      "/tmp/ipykernel_7509/1354217526.py:12: FutureWarning: A value is trying to be set on a copy of a DataFrame or Series through chained assignment using an inplace method.\n",
      "The behavior will change in pandas 3.0. This inplace method will never work because the intermediate object on which we are setting values always behaves as a copy.\n",
      "\n",
      "For example, when doing 'df[col].method(value, inplace=True)', try using 'df.method({col: value}, inplace=True)' or df[col] = df[col].method(value) instead, to perform the operation inplace on the original object.\n",
      "\n",
      "\n",
      "  df['Балкон'].fillna(False, inplace=True)\n",
      "/tmp/ipykernel_7509/1354217526.py:14: FutureWarning: A value is trying to be set on a copy of a DataFrame or Series through chained assignment using an inplace method.\n",
      "The behavior will change in pandas 3.0. This inplace method will never work because the intermediate object on which we are setting values always behaves as a copy.\n",
      "\n",
      "For example, when doing 'df[col].method(value, inplace=True)', try using 'df.method({col: value}, inplace=True)' or df[col] = df[col].method(value) instead, to perform the operation inplace on the original object.\n",
      "\n",
      "\n",
      "  df['Можно с детьми/животными'].fillna(False, inplace=True)\n",
      "/tmp/ipykernel_7509/1354217526.py:16: FutureWarning: A value is trying to be set on a copy of a DataFrame or Series through chained assignment using an inplace method.\n",
      "The behavior will change in pandas 3.0. This inplace method will never work because the intermediate object on which we are setting values always behaves as a copy.\n",
      "\n",
      "For example, when doing 'df[col].method(value, inplace=True)', try using 'df.method({col: value}, inplace=True)' or df[col] = df[col].method(value) instead, to perform the operation inplace on the original object.\n",
      "\n",
      "\n",
      "  df['Дополнительно'].fillna(False, inplace=True)\n",
      "/tmp/ipykernel_7509/1354217526.py:18: FutureWarning: A value is trying to be set on a copy of a DataFrame or Series through chained assignment using an inplace method.\n",
      "The behavior will change in pandas 3.0. This inplace method will never work because the intermediate object on which we are setting values always behaves as a copy.\n",
      "\n",
      "For example, when doing 'df[col].method(value, inplace=True)', try using 'df.method({col: value}, inplace=True)' or df[col] = df[col].method(value) instead, to perform the operation inplace on the original object.\n",
      "\n",
      "\n",
      "  df['Высота потолков, м'].fillna(df['Высота потолков, м'].median(), inplace=True)\n",
      "/tmp/ipykernel_7509/1354217526.py:20: FutureWarning: A value is trying to be set on a copy of a DataFrame or Series through chained assignment using an inplace method.\n",
      "The behavior will change in pandas 3.0. This inplace method will never work because the intermediate object on which we are setting values always behaves as a copy.\n",
      "\n",
      "For example, when doing 'df[col].method(value, inplace=True)', try using 'df.method({col: value}, inplace=True)' or df[col] = df[col].method(value) instead, to perform the operation inplace on the original object.\n",
      "\n",
      "\n",
      "  df['Лифт'].fillna(False, inplace=True)\n",
      "/tmp/ipykernel_7509/1354217526.py:22: FutureWarning: A value is trying to be set on a copy of a DataFrame or Series through chained assignment using an inplace method.\n",
      "The behavior will change in pandas 3.0. This inplace method will never work because the intermediate object on which we are setting values always behaves as a copy.\n",
      "\n",
      "For example, when doing 'df[col].method(value, inplace=True)', try using 'df.method({col: value}, inplace=True)' or df[col] = df[col].method(value) instead, to perform the operation inplace on the original object.\n",
      "\n",
      "\n",
      "  df['Мусоропровод'].fillna(False, inplace=True)\n"
     ]
    }
   ],
   "source": [
    "# заменяем NaN на False\n",
    "df['Метро'].fillna(False, inplace=True)\n",
    "# \"Количество комнат\" удаляем выбросы заполняем модой по общей площади \n",
    "df['Парковка'].fillna(df['Парковка'].mode()[0], inplace=True)\n",
    "# \"Количество комнат\" удаляем выбросы заполняем модой по общей площади \n",
    "df['Ремонт'].fillna(df['Ремонт'].mode()[0], inplace=True)\n",
    "# \"Количество комнат\" удаляем выбросы заполняем модой по общей площади \n",
    "df['Окна'].fillna(df['Окна'].mode()[0], inplace=True)\n",
    "# \"Количество комнат\" удаляем выбросы заполняем модой по общей площади \n",
    "df['Санузел'].fillna(df['Санузел'].mode()[0], inplace=True)\n",
    "# заменяем NaN на False\n",
    "df['Балкон'].fillna(False, inplace=True)\n",
    "# заменяем NaN на False\n",
    "df['Можно с детьми/животными'].fillna(False, inplace=True)\n",
    "# заменяем NaN на False\n",
    "df['Дополнительно'].fillna(False, inplace=True)\n",
    "# \"Количество комнат\" удаляем выбросы заполняем медианой по общей площади \n",
    "df['Высота потолков, м'].fillna(df['Высота потолков, м'].median(), inplace=True)\n",
    "# заменяем NaN на False\n",
    "df['Лифт'].fillna(False, inplace=True)\n",
    "# заменяем NaN на False\n",
    "df['Мусоропровод'].fillna(False, inplace=True)\n"
   ]
  },
  {
   "cell_type": "code",
   "execution_count": null,
   "id": "66b38fc7",
   "metadata": {},
   "outputs": [],
   "source": []
  },
  {
   "cell_type": "code",
   "execution_count": null,
   "id": "114d47c5",
   "metadata": {},
   "outputs": [],
   "source": []
  },
  {
   "cell_type": "code",
   "execution_count": null,
   "id": "9a1c4b46",
   "metadata": {},
   "outputs": [],
   "source": []
  },
  {
   "cell_type": "code",
   "execution_count": null,
   "id": "ed304bfc",
   "metadata": {},
   "outputs": [],
   "source": []
  },
  {
   "cell_type": "code",
   "execution_count": null,
   "id": "78656c1e",
   "metadata": {},
   "outputs": [],
   "source": []
  },
  {
   "cell_type": "code",
   "execution_count": null,
   "id": "b0c1b50f",
   "metadata": {},
   "outputs": [],
   "source": []
  },
  {
   "cell_type": "code",
   "execution_count": null,
   "id": "c5b13f38",
   "metadata": {},
   "outputs": [],
   "source": []
  },
  {
   "cell_type": "code",
   "execution_count": null,
   "id": "dfbbcd4b",
   "metadata": {},
   "outputs": [],
   "source": []
  }
 ],
 "metadata": {
  "kernelspec": {
   "display_name": "Python (project)",
   "language": "python",
   "name": "project"
  },
  "language_info": {
   "codemirror_mode": {
    "name": "ipython",
    "version": 3
   },
   "file_extension": ".py",
   "mimetype": "text/x-python",
   "name": "python",
   "nbconvert_exporter": "python",
   "pygments_lexer": "ipython3",
   "version": "3.10.18"
  }
 },
 "nbformat": 4,
 "nbformat_minor": 5
}
