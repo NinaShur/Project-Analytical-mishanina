{
 "cells": [
  {
   "cell_type": "code",
   "execution_count": 1,
   "id": "00616d2f",
   "metadata": {},
   "outputs": [],
   "source": [
    "import pandas as pd\n",
    "import numpy as np\n",
    "import matplotlib.pyplot as plt\n",
    "import seaborn as sns\n",
    "import re"
   ]
  },
  {
   "cell_type": "code",
   "execution_count": 2,
   "id": "2c187175",
   "metadata": {},
   "outputs": [],
   "source": [
    "df_original = pd.read_csv('../data/_data.csv')\n",
    "df = df_original.copy()"
   ]
  },
  {
   "cell_type": "code",
   "execution_count": 3,
   "id": "abe784c8",
   "metadata": {},
   "outputs": [
    {
     "data": {
      "text/plain": [
       "Unnamed: 0                      0\n",
       "ID  объявления                  0\n",
       "Количество комнат            1041\n",
       "Тип                             0\n",
       "Метро                        1315\n",
       "Адрес                           0\n",
       "Площадь, м2                     0\n",
       "Дом                             0\n",
       "Парковка                    13417\n",
       "Цена                            0\n",
       "Телефоны                        0\n",
       "Описание                        0\n",
       "Ремонт                       2755\n",
       "Площадь комнат, м2           8910\n",
       "Балкон                       7978\n",
       "Окна                         6613\n",
       "Санузел                      2672\n",
       "Можно с детьми/животными     6096\n",
       "Дополнительно                 357\n",
       "Название ЖК                 17520\n",
       "Серия дома                  21205\n",
       "Высота потолков, м          12162\n",
       "Лифт                         5500\n",
       "Мусоропровод                10522\n",
       "Ссылка на объявление            0\n",
       "dtype: int64"
      ]
     },
     "execution_count": 3,
     "metadata": {},
     "output_type": "execute_result"
    }
   ],
   "source": [
    "df.isna().sum()"
   ]
  },
  {
   "cell_type": "code",
   "execution_count": 4,
   "id": "3f46e6dc",
   "metadata": {},
   "outputs": [],
   "source": [
    "# 2. удаляем столбцы \"Серия дома\" и \"Название ЖК\"\n",
    "df.drop(columns=['Серия дома', 'Название ЖК'], inplace=True)"
   ]
  },
  {
   "cell_type": "code",
   "execution_count": 5,
   "id": "3ba5552a",
   "metadata": {},
   "outputs": [],
   "source": [
    "# 4.\"Количество комнат\" заполняем отсутствующие данные медианой по общей площади\n",
    "# преобразуем столбец 'Количество комнат' в числовой тип, заменяя некорректные значения на NaN\n",
    "df['Количество комнат'] = pd.to_numeric(df['Количество комнат'], errors='coerce')\n",
    "# создаём два новых столбца: 'Общая площадь, м2' и 'Жилая площадь, м2'\n",
    "def extract_areas(area_str):\n",
    "    try:\n",
    "        parts = area_str.split('/')\n",
    "        total_area = float(parts[0]) if len(parts) > 0 else None\n",
    "        living_area = float(parts[1]) if len(parts) > 1 else None\n",
    "        return pd.Series([total_area, living_area])\n",
    "    except:\n",
    "        return pd.Series([None, None])\n",
    "df[['Общая площадь, м2', 'Жилая площадь, м2']] = df['Площадь, м2'].apply(extract_areas)\n",
    "# группируем по 'Общая площадь, м2' и вычисляем медиану для каждой группы\n",
    "medians = df.groupby('Общая площадь, м2')['Количество комнат'].transform('median')\n",
    "# заменяем NaN значения в 'Количество комнат' на медиану соответствующей группы\n",
    "df['Количество комнат'] = df['Количество комнат'].fillna(medians)\n",
    "# чтобы дробных чисел не было\n",
    "df['Количество комнат'] = df['Количество комнат'].round().astype('Int64')\n",
    "# Заполним NA медианой по всему столбцу (после округления)\n",
    "global_med = df['Количество комнат'].median()  # это может быть float или Int64\n",
    "df['Количество комнат'] = df['Количество комнат'].fillna(global_med).astype('Int64')"
   ]
  },
  {
   "cell_type": "code",
   "execution_count": 6,
   "id": "ba7786d6",
   "metadata": {},
   "outputs": [
    {
     "data": {
      "text/plain": [
       "Unnamed: 0                      0\n",
       "ID  объявления                  0\n",
       "Количество комнат               0\n",
       "Тип                             0\n",
       "Метро                        1315\n",
       "Адрес                           0\n",
       "Площадь, м2                     0\n",
       "Дом                             0\n",
       "Парковка                    13417\n",
       "Цена                            0\n",
       "Телефоны                        0\n",
       "Описание                        0\n",
       "Ремонт                       2755\n",
       "Площадь комнат, м2           8910\n",
       "Балкон                       7978\n",
       "Окна                         6613\n",
       "Санузел                      2672\n",
       "Можно с детьми/животными     6096\n",
       "Дополнительно                 357\n",
       "Высота потолков, м          12162\n",
       "Лифт                         5500\n",
       "Мусоропровод                10522\n",
       "Ссылка на объявление            0\n",
       "Общая площадь, м2               0\n",
       "Жилая площадь, м2            3060\n",
       "dtype: int64"
      ]
     },
     "execution_count": 6,
     "metadata": {},
     "output_type": "execute_result"
    }
   ],
   "source": [
    "df.isna().sum()"
   ]
  },
  {
   "cell_type": "code",
   "execution_count": 7,
   "id": "6b76024a",
   "metadata": {},
   "outputs": [],
   "source": [
    "# отсутствующие значения \"Метро\" заменим на 'unknown'\n",
    "# добавим столбец метро без времени до него\n",
    "df['Станция Метро'] = df['Метро'].str.split('(').str[0].str.strip()\n",
    "# заменяем  NaN на 'unknown'\n",
    "df['Станция Метро'] = df['Станция Метро'].fillna('unknown')\n",
    "# заменяем строки, которые пустые или содержат только пробелы на 'unknown'\n",
    "df['Станция Метро'] = df['Станция Метро'].replace(r'^\\s*$', 'unknown', regex=True)"
   ]
  },
  {
   "cell_type": "code",
   "execution_count": 18,
   "id": "51cc3225",
   "metadata": {},
   "outputs": [
    {
     "data": {
      "text/plain": [
       "array(['200.0/20.0', '198.0/95.0/18.0', '200.0/116.0/4.0', ..., '43.1',\n",
       "       '52.5/10.0', '90.0/48.2/15.5'], shape=(11255,), dtype=object)"
      ]
     },
     "execution_count": 18,
     "metadata": {},
     "output_type": "execute_result"
    }
   ],
   "source": [
    "df['Площадь, м2'].unique()"
   ]
  },
  {
   "cell_type": "code",
   "execution_count": 19,
   "id": "5ca681fd",
   "metadata": {},
   "outputs": [
    {
     "name": "stdout",
     "output_type": "stream",
     "text": [
      "13417\n"
     ]
    }
   ],
   "source": [
    "missing_values_count = df['Парковка'].isna().sum()\n",
    "print(missing_values_count)"
   ]
  }
 ],
 "metadata": {
  "kernelspec": {
   "display_name": "Python (project)",
   "language": "python",
   "name": "project"
  },
  "language_info": {
   "codemirror_mode": {
    "name": "ipython",
    "version": 3
   },
   "file_extension": ".py",
   "mimetype": "text/x-python",
   "name": "python",
   "nbconvert_exporter": "python",
   "pygments_lexer": "ipython3",
   "version": "3.10.18"
  }
 },
 "nbformat": 4,
 "nbformat_minor": 5
}
