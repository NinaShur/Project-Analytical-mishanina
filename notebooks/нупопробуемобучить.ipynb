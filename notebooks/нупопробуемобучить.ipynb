{
 "cells": [
  {
   "cell_type": "code",
   "execution_count": 151,
   "id": "fc94563e",
   "metadata": {},
   "outputs": [],
   "source": [
    "import pandas as pd\n",
    "import numpy as np\n",
    "import matplotlib.pyplot as plt\n",
    "import seaborn as sns\n",
    "import re\n",
    "from sklearn.preprocessing import OneHotEncoder\n",
    "from sklearn.preprocessing import StandardScaler"
   ]
  },
  {
   "cell_type": "code",
   "execution_count": 152,
   "id": "377f5dc1",
   "metadata": {},
   "outputs": [],
   "source": [
    "df = pd.read_csv('../notebooks/data.csv')"
   ]
  },
  {
   "cell_type": "code",
   "execution_count": 153,
   "id": "e61e8db8",
   "metadata": {},
   "outputs": [
    {
     "data": {
      "text/html": [
       "<div>\n",
       "<style scoped>\n",
       "    .dataframe tbody tr th:only-of-type {\n",
       "        vertical-align: middle;\n",
       "    }\n",
       "\n",
       "    .dataframe tbody tr th {\n",
       "        vertical-align: top;\n",
       "    }\n",
       "\n",
       "    .dataframe thead th {\n",
       "        text-align: right;\n",
       "    }\n",
       "</style>\n",
       "<table border=\"1\" class=\"dataframe\">\n",
       "  <thead>\n",
       "    <tr style=\"text-align: right;\">\n",
       "      <th></th>\n",
       "      <th>id</th>\n",
       "      <th>rooms</th>\n",
       "      <th>metro</th>\n",
       "      <th>area</th>\n",
       "      <th>floor</th>\n",
       "      <th>parking</th>\n",
       "      <th>price</th>\n",
       "      <th>renovation</th>\n",
       "      <th>room_area</th>\n",
       "      <th>balcony</th>\n",
       "      <th>windows</th>\n",
       "      <th>bathroom</th>\n",
       "      <th>allowed_children_pets</th>\n",
       "      <th>ceiling_height</th>\n",
       "      <th>city</th>\n",
       "    </tr>\n",
       "  </thead>\n",
       "  <tbody>\n",
       "    <tr>\n",
       "      <th>0</th>\n",
       "      <td>273614615</td>\n",
       "      <td>2</td>\n",
       "      <td>Арбатская</td>\n",
       "      <td>58.0</td>\n",
       "      <td>12</td>\n",
       "      <td>unknown</td>\n",
       "      <td>225000.0</td>\n",
       "      <td>Евроремонт</td>\n",
       "      <td>19.000000</td>\n",
       "      <td>unknown</td>\n",
       "      <td>На улицу и двор</td>\n",
       "      <td>Совмещенный (2)</td>\n",
       "      <td>unknown</td>\n",
       "      <td>3.9</td>\n",
       "      <td>Москва</td>\n",
       "    </tr>\n",
       "    <tr>\n",
       "      <th>1</th>\n",
       "      <td>274475342</td>\n",
       "      <td>3</td>\n",
       "      <td>Смоленская</td>\n",
       "      <td>98.0</td>\n",
       "      <td>2</td>\n",
       "      <td>подземная</td>\n",
       "      <td>250000.0</td>\n",
       "      <td>Евроремонт</td>\n",
       "      <td>21.000000</td>\n",
       "      <td>unknown</td>\n",
       "      <td>Во двор</td>\n",
       "      <td>Совмещенный (1), Раздельный (1)</td>\n",
       "      <td>Можно с детьми, Можно с животными</td>\n",
       "      <td>3.2</td>\n",
       "      <td>Москва</td>\n",
       "    </tr>\n",
       "    <tr>\n",
       "      <th>2</th>\n",
       "      <td>273973191</td>\n",
       "      <td>3</td>\n",
       "      <td>Смоленская</td>\n",
       "      <td>120.0</td>\n",
       "      <td>5</td>\n",
       "      <td>открытая</td>\n",
       "      <td>130000.0</td>\n",
       "      <td>Евроремонт</td>\n",
       "      <td>31.666667</td>\n",
       "      <td>unknown</td>\n",
       "      <td>На улицу</td>\n",
       "      <td>Совмещенный (1)</td>\n",
       "      <td>Можно с животными</td>\n",
       "      <td>3.0</td>\n",
       "      <td>Москва</td>\n",
       "    </tr>\n",
       "  </tbody>\n",
       "</table>\n",
       "</div>"
      ],
      "text/plain": [
       "          id  rooms       metro   area  floor    parking     price  \\\n",
       "0  273614615      2   Арбатская   58.0     12    unknown  225000.0   \n",
       "1  274475342      3  Смоленская   98.0      2  подземная  250000.0   \n",
       "2  273973191      3  Смоленская  120.0      5   открытая  130000.0   \n",
       "\n",
       "   renovation  room_area  balcony          windows  \\\n",
       "0  Евроремонт  19.000000  unknown  На улицу и двор   \n",
       "1  Евроремонт  21.000000  unknown          Во двор   \n",
       "2  Евроремонт  31.666667  unknown         На улицу   \n",
       "\n",
       "                          bathroom              allowed_children_pets  \\\n",
       "0                  Совмещенный (2)                            unknown   \n",
       "1  Совмещенный (1), Раздельный (1)  Можно с детьми, Можно с животными   \n",
       "2                  Совмещенный (1)                  Можно с животными   \n",
       "\n",
       "   ceiling_height    city  \n",
       "0             3.9  Москва  \n",
       "1             3.2  Москва  \n",
       "2             3.0  Москва  "
      ]
     },
     "execution_count": 153,
     "metadata": {},
     "output_type": "execute_result"
    }
   ],
   "source": [
    "df = df.drop(columns=['Unnamed: 0'])\n",
    "df.head(3)"
   ]
  },
  {
   "cell_type": "code",
   "execution_count": null,
   "id": "9668c823",
   "metadata": {},
   "outputs": [],
   "source": [
    "# делим на численные и категориальные\n",
    "numeric_cols = df.select_dtypes(include=['int64', 'float64']).columns.drop('price') \n",
    "categorical_cols = df.select_dtypes(include=['object']).columns\n",
    "# кодируем категориальные\n",
    "encoder = OneHotEncoder(sparse_output=False)\n",
    "encoded = encoder.fit_transform(df[categorical_cols])\n",
    "encoded_df = pd.DataFrame(encoded, columns=encoder.get_feature_names_out(categorical_cols))\n",
    "# кодируем численные\n",
    "scaler = StandardScaler()\n",
    "scaled = scaler.fit_transform(df[numeric_cols])\n",
    "scaled_df = pd.DataFrame(scaled, columns=numeric_cols)\n",
    "# объединяем в один датафрейм\n",
    "encoded_df_final = pd.concat([encoded_df, scaled_df], axis=1)"
   ]
  },
  {
   "cell_type": "code",
   "execution_count": null,
   "id": "c54f07b5",
   "metadata": {},
   "outputs": [
    {
     "name": "stdout",
     "output_type": "stream",
     "text": [
      "MAPE: 20.89%\n"
     ]
    }
   ],
   "source": [
    "from sklearn.preprocessing import OneHotEncoder, StandardScaler\n",
    "from sklearn.model_selection import train_test_split\n",
    "from sklearn.linear_model import LinearRegression\n",
    "from sklearn.metrics import mean_absolute_percentage_error\n",
    "import pandas as pd\n",
    "# Целевая переменная\n",
    "y = df['price']\n",
    "# Делим выборку\n",
    "X_train, X_test, y_train, y_test = train_test_split(encoded_df_final, y, test_size=0.2, random_state=42)\n",
    "# Обучаем модель\n",
    "model = LinearRegression()\n",
    "model.fit(X_train, y_train)\n",
    "# Предсказания\n",
    "y_pred = model.predict(X_test)\n",
    "# Считаем MAPE\n",
    "mape = mean_absolute_percentage_error(y_test, y_pred) * 100\n",
    "print(f\"MAPE: {mape:.2f}%\")\n"
   ]
  },
  {
   "cell_type": "code",
   "execution_count": null,
   "id": "893404a5",
   "metadata": {},
   "outputs": [
    {
     "name": "stdout",
     "output_type": "stream",
     "text": [
      "MAPE: 20.94%\n"
     ]
    }
   ],
   "source": [
    "# другой способ кодировки\n",
    "encoded_df_final_2 = pd.get_dummies(df)\n",
    "# Кодируем все категориальные переменные с помощью get_dummies\n",
    "encoded_df_final_2 = pd.get_dummies(df.drop(columns=['id']))  # убираем id, он не нужен\n",
    "# Целевая переменная\n",
    "y = df['price']\n",
    "# Признаки (после кодировки)\n",
    "X = encoded_df_final_2.drop(columns=['price'])\n",
    "# Делим на тренировочную и тестовую выборки\n",
    "X_train, X_test, y_train, y_test = train_test_split(X, y, test_size=0.2, random_state=42)\n",
    "# Обучаем модель\n",
    "model = LinearRegression()\n",
    "model.fit(X_train, y_train)\n",
    "# Делаем предсказания\n",
    "y_pred = model.predict(X_test)\n",
    "# Считаем MAPE\n",
    "mape = mean_absolute_percentage_error(y_test, y_pred) * 100\n",
    "print(f\"MAPE: {mape:.2f}%\")\n"
   ]
  },
  {
   "cell_type": "code",
   "execution_count": null,
   "id": "12874fdb",
   "metadata": {},
   "outputs": [],
   "source": []
  }
 ],
 "metadata": {
  "kernelspec": {
   "display_name": "Python (project)",
   "language": "python",
   "name": "project"
  },
  "language_info": {
   "codemirror_mode": {
    "name": "ipython",
    "version": 3
   },
   "file_extension": ".py",
   "mimetype": "text/x-python",
   "name": "python",
   "nbconvert_exporter": "python",
   "pygments_lexer": "ipython3",
   "version": "3.10.18"
  }
 },
 "nbformat": 4,
 "nbformat_minor": 5
}
