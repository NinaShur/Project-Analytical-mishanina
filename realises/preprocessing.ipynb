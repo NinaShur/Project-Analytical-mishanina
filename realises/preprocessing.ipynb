{
 "cells": [
  {
   "cell_type": "code",
   "execution_count": 2,
   "id": "b9a8a156",
   "metadata": {},
   "outputs": [],
   "source": [
    "import pandas as pd\n",
    "import numpy as np\n",
    "import matplotlib.pyplot as plt\n",
    "import seaborn as sns\n",
    "import re"
   ]
  },
  {
   "cell_type": "code",
   "execution_count": 3,
   "id": "0dce7cd4",
   "metadata": {},
   "outputs": [],
   "source": [
    "df_original = pd.read_csv('../data/_data.csv')\n",
    "df = df_original.copy()\n",
    "#  удаляем столбцы 'Unnamed: 0', 'Тип', 'Телефоны', 'Описание', 'Название ЖК', 'Серия дома', 'Мусоропровод','Ссылка на объявление', 'Лифт'\n",
    "df.drop(columns=['Unnamed: 0', 'Тип', 'Телефоны', 'Описание', 'Название ЖК', 'Серия дома', 'Мусоропровод','Ссылка на объявление', 'Лифт'], inplace=True)"
   ]
  },
  {
   "cell_type": "code",
   "execution_count": 4,
   "id": "99f0aad2",
   "metadata": {},
   "outputs": [],
   "source": [
    "# в цене отбрасываем что после цены\n",
    "def extract_first_number(val):\n",
    "    if pd.isna(val):\n",
    "        return np.nan\n",
    "    val = str(val)\n",
    "    # первое число (целое или с запятой или точкой)\n",
    "    match = re.search(r'\\d+[\\d,.]*', val)\n",
    "    if match:\n",
    "        # оставляем только найденное число, удаляем пробелы, заменяем запятую на точку\n",
    "        number_str = match.group(0).replace(' ', '').replace(',', '.')\n",
    "        try:\n",
    "            return float(number_str)\n",
    "        except ValueError:\n",
    "            return np.nan\n",
    "    return np.nan\n",
    "\n",
    "df['Цена'] = df['Цена'].apply(extract_first_number)\n",
    "\n",
    "# в площади оставляем первую площадь (отбрасываем все до /)\n",
    "def extract_total_area(val):\n",
    "    if pd.isna(val):\n",
    "        return None\n",
    "    val = str(val) \n",
    "    return float(val.split('/')[0])\n",
    "\n",
    "df['Площадь, м2'] = df['Площадь, м2'].apply(extract_total_area)"
   ]
  },
  {
   "cell_type": "code",
   "execution_count": 5,
   "id": "0419f9c6",
   "metadata": {},
   "outputs": [],
   "source": [
    "# удаляем время до метро\n",
    "def extract_station(metro_str):\n",
    "    if pd.isna(metro_str):\n",
    "        return None\n",
    "    # ищем \"м. \" и захватываем все до первой скобки или конца строки\n",
    "    match = re.search(r'м\\.\\s*([^(\\n\\r]+)', metro_str)\n",
    "    if match:\n",
    "        # возвращаем название станции с обрезанием пробелов\n",
    "        return match.group(1).strip()\n",
    "    return metro_str  # Если не совпало, возвращаем исходное значение\n",
    "\n",
    "df['Метро'] = df['Метро'].apply(extract_station)\n"
   ]
  },
  {
   "cell_type": "code",
   "execution_count": 6,
   "id": "bc919df0",
   "metadata": {},
   "outputs": [],
   "source": [
    "# в столбце количество комнат оставляем только число комнат\n",
    "def extract_room_number(value):\n",
    "    if pd.isna(value):\n",
    "        return None\n",
    "    # Ищем первое число в строке\n",
    "    match = re.search(r'\\d+', str(value))\n",
    "    if match:\n",
    "        return int(match.group(0))\n",
    "    return None\n",
    "\n",
    "df['Количество комнат'] = df['Количество комнат'].apply(extract_room_number)\n"
   ]
  },
  {
   "cell_type": "code",
   "execution_count": 7,
   "id": "376d8eff",
   "metadata": {},
   "outputs": [],
   "source": [
    "# заполняем пропуски\n",
    "# Количество комнат\n",
    "# Количество комнат преобразуем в число, заполним по медиане внутри групп по площади\n",
    "df['Количество комнат'] = pd.to_numeric(df['Количество комнат'], errors='coerce')\n",
    "medians = df.groupby('Площадь, м2')['Количество комнат'].transform('median')\n",
    "df['Количество комнат'] = df['Количество комнат'].fillna(medians)\n",
    "global_med = df['Количество комнат'].median()\n",
    "df['Количество комнат'] = df['Количество комнат'].fillna(global_med).round().astype('Int64')\n",
    "# метро отсутствующие меняем на \"unknown\"\n",
    "df['Метро'] = df['Метро'].fillna('unknown')\n",
    "# парковка отсутствующие меняем на \"unknown\"\n",
    "df['Парковка'] = df['Парковка'].fillna('unknown')\n",
    "# ремонт\n",
    "df['Ремонт'] = df['Ремонт'].fillna(df['Ремонт'].mode()[0])\n",
    "# площадь комнат\n",
    "def extract_mean_room_area(val):\n",
    "    if pd.isna(val):\n",
    "        return None\n",
    "    numbers = re.findall(r'\\d+', str(val))\n",
    "    if numbers:\n",
    "        return np.mean([int(n) for n in numbers])\n",
    "    return None\n",
    "df['Площадь комнат, м2'] = df['Площадь комнат, м2'].apply(extract_mean_room_area)\n",
    "df['Площадь комнат, м2'] = df['Площадь комнат, м2'].fillna(df['Площадь комнат, м2'].median())\n",
    "# балкон\n",
    "df['Балкон'] = df['Балкон'].fillna('unknown')\n",
    "# окна\n",
    "df['Окна'] = df['Окна'].fillna(df['Окна'].mode()[0])\n",
    "# санузел\n",
    "df['Санузел'] = df['Санузел'].fillna('unknown')\n",
    "# Заполняем пустые значения в столбце \"Можно с детьми/животными\" 'unknown'\n",
    "df['Можно с детьми/животными'] = df['Можно с детьми/животными'].fillna('unknown')\n",
    "# Заполняем пустые значения в столбце \"Дополнительно\" 'unknown'\n",
    "df['Дополнительно'] = df['Дополнительно'].fillna('unknown')\n",
    "# Заполняем пустые значения в столбце \"Высотка потолков\" средним значением по датафрейму с удаленными выбросами(3.00)\n",
    "df['Высота потолков, м'] = df['Высота потолков, м'].fillna(3.00)"
   ]
  },
  {
   "cell_type": "code",
   "execution_count": 8,
   "id": "78e30b76",
   "metadata": {},
   "outputs": [],
   "source": [
    "# удаляем выбросы по цене\n",
    "df_mean = df['Цена'].mean()\n",
    "df_std = df['Цена'].std()\n",
    "df = df[(df['Цена'] > df_mean - 0.5 * df_std) & (df['Цена'] < df_mean + 2 * df_std)]"
   ]
  },
  {
   "cell_type": "code",
   "execution_count": 9,
   "id": "5038f3ec",
   "metadata": {},
   "outputs": [],
   "source": [
    "# переименовываем столбцы\n",
    "df.rename(columns={\n",
    "    'ID  объявления': 'id',\n",
    "    'Количество комнат': 'rooms',\n",
    "    'Метро': 'metro',\n",
    "    'Адрес': 'address',\n",
    "    'Площадь, м2': 'area',\n",
    "    'Дом': 'building_info',\n",
    "    'Парковка': 'parking',\n",
    "    'Цена': 'price',\n",
    "    'Ремонт': 'renovation',\n",
    "    'Площадь комнат, м2': 'room_area',\n",
    "    'Балкон': 'balcony',\n",
    "    'Окна': 'windows',\n",
    "    'Санузел': 'bathroom',\n",
    "    'Можно с детьми/животными': 'allowed_children_pets',\n",
    "    'Дополнительно': 'additional',\n",
    "    'Высота потолков, м': 'ceiling_height'\n",
    "}, inplace=True)"
   ]
  },
  {
   "cell_type": "code",
   "execution_count": null,
   "id": "cc67830a",
   "metadata": {},
   "outputs": [
    {
     "data": {
      "text/html": [
       "<div>\n",
       "<style scoped>\n",
       "    .dataframe tbody tr th:only-of-type {\n",
       "        vertical-align: middle;\n",
       "    }\n",
       "\n",
       "    .dataframe tbody tr th {\n",
       "        vertical-align: top;\n",
       "    }\n",
       "\n",
       "    .dataframe thead th {\n",
       "        text-align: right;\n",
       "    }\n",
       "</style>\n",
       "<table border=\"1\" class=\"dataframe\">\n",
       "  <thead>\n",
       "    <tr style=\"text-align: right;\">\n",
       "      <th></th>\n",
       "      <th>id</th>\n",
       "      <th>rooms</th>\n",
       "      <th>metro</th>\n",
       "      <th>address</th>\n",
       "      <th>area</th>\n",
       "      <th>building_info</th>\n",
       "      <th>parking</th>\n",
       "      <th>price</th>\n",
       "      <th>renovation</th>\n",
       "      <th>room_area</th>\n",
       "      <th>balcony</th>\n",
       "      <th>windows</th>\n",
       "      <th>bathroom</th>\n",
       "      <th>allowed_children_pets</th>\n",
       "      <th>additional</th>\n",
       "      <th>ceiling_height</th>\n",
       "    </tr>\n",
       "  </thead>\n",
       "  <tbody>\n",
       "    <tr>\n",
       "      <th>4</th>\n",
       "      <td>273614615</td>\n",
       "      <td>2</td>\n",
       "      <td>Арбатская</td>\n",
       "      <td>Москва, улица Новый Арбат, 15</td>\n",
       "      <td>58.0</td>\n",
       "      <td>12/26, Панельный</td>\n",
       "      <td>unknown</td>\n",
       "      <td>225000.0</td>\n",
       "      <td>Евроремонт</td>\n",
       "      <td>19.0</td>\n",
       "      <td>unknown</td>\n",
       "      <td>На улицу и двор</td>\n",
       "      <td>Совмещенный (2)</td>\n",
       "      <td>unknown</td>\n",
       "      <td>Мебель в комнатах, Мебель на кухне, Ванна, Душ...</td>\n",
       "      <td>3.9</td>\n",
       "    </tr>\n",
       "    <tr>\n",
       "      <th>7</th>\n",
       "      <td>274475342</td>\n",
       "      <td>3</td>\n",
       "      <td>Смоленская</td>\n",
       "      <td>Москва, улица Арбат, 43С3</td>\n",
       "      <td>98.0</td>\n",
       "      <td>2/4, Монолитный</td>\n",
       "      <td>подземная</td>\n",
       "      <td>250000.0</td>\n",
       "      <td>Евроремонт</td>\n",
       "      <td>21.0</td>\n",
       "      <td>unknown</td>\n",
       "      <td>Во двор</td>\n",
       "      <td>Совмещенный (1), Раздельный (1)</td>\n",
       "      <td>Можно с детьми, Можно с животными</td>\n",
       "      <td>Мебель в комнатах, Мебель на кухне, Ванна, Душ...</td>\n",
       "      <td>3.2</td>\n",
       "    </tr>\n",
       "  </tbody>\n",
       "</table>\n",
       "</div>"
      ],
      "text/plain": [
       "          id  rooms       metro                        address  area  \\\n",
       "4  273614615      2   Арбатская  Москва, улица Новый Арбат, 15  58.0   \n",
       "7  274475342      3  Смоленская      Москва, улица Арбат, 43С3  98.0   \n",
       "\n",
       "      building_info    parking     price  renovation  room_area  balcony  \\\n",
       "4  12/26, Панельный    unknown  225000.0  Евроремонт       19.0  unknown   \n",
       "7   2/4, Монолитный  подземная  250000.0  Евроремонт       21.0  unknown   \n",
       "\n",
       "           windows                         bathroom  \\\n",
       "4  На улицу и двор                  Совмещенный (2)   \n",
       "7          Во двор  Совмещенный (1), Раздельный (1)   \n",
       "\n",
       "               allowed_children_pets  \\\n",
       "4                            unknown   \n",
       "7  Можно с детьми, Можно с животными   \n",
       "\n",
       "                                          additional  ceiling_height  \n",
       "4  Мебель в комнатах, Мебель на кухне, Ванна, Душ...             3.9  \n",
       "7  Мебель в комнатах, Мебель на кухне, Ванна, Душ...             3.2  "
      ]
     },
     "execution_count": 10,
     "metadata": {},
     "output_type": "execute_result"
    }
   ],
   "source": [
    "df.head(2)"
   ]
  },
  {
   "cell_type": "code",
   "execution_count": 11,
   "id": "aee778c1",
   "metadata": {},
   "outputs": [],
   "source": [
    "df.to_csv('data.csv', encoding='utf-8')"
   ]
  },
  {
   "cell_type": "code",
   "execution_count": null,
   "id": "611db891",
   "metadata": {},
   "outputs": [],
   "source": []
  },
  {
   "cell_type": "code",
   "execution_count": null,
   "id": "dfc34f7e",
   "metadata": {},
   "outputs": [],
   "source": []
  },
  {
   "cell_type": "code",
   "execution_count": null,
   "id": "4e6662f9",
   "metadata": {},
   "outputs": [],
   "source": []
  },
  {
   "cell_type": "code",
   "execution_count": null,
   "id": "642bd589",
   "metadata": {},
   "outputs": [],
   "source": []
  },
  {
   "cell_type": "code",
   "execution_count": null,
   "id": "1cd431b6",
   "metadata": {},
   "outputs": [],
   "source": []
  },
  {
   "cell_type": "code",
   "execution_count": null,
   "id": "b61308f8",
   "metadata": {},
   "outputs": [],
   "source": []
  },
  {
   "cell_type": "code",
   "execution_count": null,
   "id": "bcb1511b",
   "metadata": {},
   "outputs": [],
   "source": []
  },
  {
   "cell_type": "code",
   "execution_count": null,
   "id": "3fe4ba09",
   "metadata": {},
   "outputs": [],
   "source": []
  },
  {
   "cell_type": "code",
   "execution_count": null,
   "id": "0601b43b",
   "metadata": {},
   "outputs": [],
   "source": []
  },
  {
   "cell_type": "code",
   "execution_count": null,
   "id": "71d8aedf",
   "metadata": {},
   "outputs": [],
   "source": []
  },
  {
   "cell_type": "code",
   "execution_count": null,
   "id": "3ee669d2",
   "metadata": {},
   "outputs": [],
   "source": []
  },
  {
   "cell_type": "code",
   "execution_count": null,
   "id": "0e542e29",
   "metadata": {},
   "outputs": [],
   "source": []
  },
  {
   "cell_type": "code",
   "execution_count": null,
   "id": "8b037926",
   "metadata": {},
   "outputs": [],
   "source": []
  },
  {
   "cell_type": "code",
   "execution_count": null,
   "id": "6c7f292b",
   "metadata": {},
   "outputs": [],
   "source": []
  },
  {
   "cell_type": "code",
   "execution_count": null,
   "id": "48122a17",
   "metadata": {},
   "outputs": [],
   "source": []
  },
  {
   "cell_type": "code",
   "execution_count": null,
   "id": "08fc103a",
   "metadata": {},
   "outputs": [],
   "source": []
  }
 ],
 "metadata": {
  "kernelspec": {
   "display_name": "Python (project)",
   "language": "python",
   "name": "project"
  },
  "language_info": {
   "codemirror_mode": {
    "name": "ipython",
    "version": 3
   },
   "file_extension": ".py",
   "mimetype": "text/x-python",
   "name": "python",
   "nbconvert_exporter": "python",
   "pygments_lexer": "ipython3",
   "version": "3.10.18"
  }
 },
 "nbformat": 4,
 "nbformat_minor": 5
}
