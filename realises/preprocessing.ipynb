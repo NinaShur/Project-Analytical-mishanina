{
 "cells": [
  {
   "cell_type": "code",
   "execution_count": 250,
   "id": "b9a8a156",
   "metadata": {},
   "outputs": [],
   "source": [
    "import pandas as pd\n",
    "import numpy as np\n",
    "import matplotlib.pyplot as plt\n",
    "import seaborn as sns\n",
    "import re"
   ]
  },
  {
   "cell_type": "code",
   "execution_count": 251,
   "id": "0dce7cd4",
   "metadata": {},
   "outputs": [],
   "source": [
    "df_original = pd.read_csv('../data/_data.csv')\n",
    "df = df_original.copy()\n",
    "#  удаляем столбцы 'Unnamed: 0', 'Тип', 'Телефоны', 'Описание', 'Название ЖК', 'Серия дома', 'Мусоропровод','Ссылка на объявление', 'Лифт'\n",
    "df.drop(columns=['Unnamed: 0', 'Тип', 'Телефоны', 'Описание', 'Название ЖК', 'Серия дома', 'Мусоропровод','Ссылка на объявление', 'Лифт'], inplace=True)"
   ]
  },
  {
   "cell_type": "code",
   "execution_count": 252,
   "id": "99f0aad2",
   "metadata": {},
   "outputs": [],
   "source": [
    "# в цене отбрасываем что после цены\n",
    "def extract_first_number(val):\n",
    "    if pd.isna(val):\n",
    "        return np.nan\n",
    "    val = str(val)\n",
    "    # первое число (целое или с запятой или точкой)\n",
    "    match = re.search(r'\\d+[\\d,.]*', val)\n",
    "    if match:\n",
    "        # оставляем только найденное число, удаляем пробелы, заменяем запятую на точку\n",
    "        number_str = match.group(0).replace(' ', '').replace(',', '.')\n",
    "        try:\n",
    "            return float(number_str)\n",
    "        except ValueError:\n",
    "            return np.nan\n",
    "    return np.nan\n",
    "\n",
    "df['Цена'] = df['Цена'].apply(extract_first_number)\n",
    "\n",
    "# в площади оставляем первую площадь (отбрасываем все до /)\n",
    "def extract_total_area(val):\n",
    "    if pd.isna(val):\n",
    "        return None\n",
    "    val = str(val) \n",
    "    return float(val.split('/')[0])\n",
    "\n",
    "df['Площадь, м2'] = df['Площадь, м2'].apply(extract_total_area)"
   ]
  },
  {
   "cell_type": "code",
   "execution_count": 253,
   "id": "0419f9c6",
   "metadata": {},
   "outputs": [],
   "source": [
    "# удаляем время до метро\n",
    "def extract_station(metro_str):\n",
    "    if pd.isna(metro_str):\n",
    "        return None\n",
    "    # ищем \"м. \" и захватываем все до первой скобки или конца строки\n",
    "    match = re.search(r'м\\.\\s*([^(\\n\\r]+)', metro_str)\n",
    "    if match:\n",
    "        # возвращаем название станции с обрезанием пробелов\n",
    "        return match.group(1).strip()\n",
    "    return metro_str  # Если не совпало, возвращаем исходное значение\n",
    "\n",
    "df['Метро'] = df['Метро'].apply(extract_station)\n"
   ]
  },
  {
   "cell_type": "code",
   "execution_count": 254,
   "id": "bc919df0",
   "metadata": {},
   "outputs": [],
   "source": [
    "# в столбце количество комнат оставляем только число комнат\n",
    "def extract_room_number(value):\n",
    "    if pd.isna(value):\n",
    "        return None\n",
    "    # Ищем первое число в строке\n",
    "    match = re.search(r'\\d+', str(value))\n",
    "    if match:\n",
    "        return int(match.group(0))\n",
    "    return None\n",
    "\n",
    "df['Количество комнат'] = df['Количество комнат'].apply(extract_room_number)\n"
   ]
  },
  {
   "cell_type": "code",
   "execution_count": 255,
   "id": "376d8eff",
   "metadata": {},
   "outputs": [],
   "source": [
    "# заполняем пропуски\n",
    "# Количество комнат\n",
    "# Количество комнат преобразуем в число, заполним по медиане внутри групп по площади\n",
    "df['Количество комнат'] = pd.to_numeric(df['Количество комнат'], errors='coerce')\n",
    "medians = df.groupby('Площадь, м2')['Количество комнат'].transform('median')\n",
    "df['Количество комнат'] = df['Количество комнат'].fillna(medians)\n",
    "global_med = df['Количество комнат'].median()\n",
    "df['Количество комнат'] = df['Количество комнат'].fillna(global_med).round().astype('Int64')\n",
    "# метро отсутствующие меняем на \"unknown\"\n",
    "df['Метро'] = df['Метро'].fillna('unknown')\n",
    "# парковка отсутствующие меняем на \"unknown\"\n",
    "df['Парковка'] = df['Парковка'].fillna('unknown')\n",
    "# ремонт\n",
    "df['Ремонт'] = df['Ремонт'].fillna(df['Ремонт'].mode()[0])\n",
    "# площадь комнат\n",
    "def extract_mean_room_area(val):\n",
    "    if pd.isna(val):\n",
    "        return None\n",
    "    numbers = re.findall(r'\\d+', str(val))\n",
    "    if numbers:\n",
    "        return np.mean([int(n) for n in numbers])\n",
    "    return None\n",
    "df['Площадь комнат, м2'] = df['Площадь комнат, м2'].apply(extract_mean_room_area)\n",
    "df['Площадь комнат, м2'] = df['Площадь комнат, м2'].fillna(df['Площадь комнат, м2'].median())\n",
    "# балкон\n",
    "df['Балкон'] = df['Балкон'].fillna('unknown')\n",
    "# окна\n",
    "df['Окна'] = df['Окна'].fillna(df['Окна'].mode()[0])\n",
    "# санузел\n",
    "df['Санузел'] = df['Санузел'].fillna('unknown')\n",
    "# Заполняем пустые значения в столбце \"Можно с детьми/животными\" 'unknown'\n",
    "df['Можно с детьми/животными'] = df['Можно с детьми/животными'].fillna('unknown')\n",
    "# Заполняем пустые значения в столбце \"Дополнительно\" 'unknown'\n",
    "df['Дополнительно'] = df['Дополнительно'].fillna('unknown')\n",
    "# Заполняем пустые значения в столбце \"Высотка потолков\" средним значением по датафрейму с удаленными выбросами(3.00)\n",
    "df['Высота потолков, м'] = df['Высота потолков, м'].fillna(3.00)"
   ]
  },
  {
   "cell_type": "code",
   "execution_count": 256,
   "id": "78e30b76",
   "metadata": {},
   "outputs": [],
   "source": [
    "# удаляем выбросы по цене\n",
    "df_mean = df['Цена'].mean()\n",
    "df_std = df['Цена'].std()\n",
    "df = df[(df['Цена'] > df_mean - 0.5 * df_std) & (df['Цена'] < df_mean + 2 * df_std)]"
   ]
  },
  {
   "cell_type": "code",
   "execution_count": 257,
   "id": "5038f3ec",
   "metadata": {},
   "outputs": [],
   "source": [
    "# переименовываем столбцы\n",
    "df.rename(columns={\n",
    "    'ID  объявления': 'id',\n",
    "    'Количество комнат': 'rooms',\n",
    "    'Метро': 'metro',\n",
    "    'Адрес': 'address',\n",
    "    'Площадь, м2': 'area',\n",
    "    'Дом': 'building_info',\n",
    "    'Парковка': 'parking',\n",
    "    'Цена': 'price',\n",
    "    'Ремонт': 'renovation',\n",
    "    'Площадь комнат, м2': 'room_area',\n",
    "    'Балкон': 'balcony',\n",
    "    'Окна': 'windows',\n",
    "    'Санузел': 'bathroom',\n",
    "    'Можно с детьми/животными': 'allowed_children_pets',\n",
    "    'Дополнительно': 'additional',\n",
    "    'Высота потолков, м': 'ceiling_height'\n",
    "}, inplace=True)"
   ]
  },
  {
   "cell_type": "code",
   "execution_count": 258,
   "id": "e37d1b08",
   "metadata": {},
   "outputs": [],
   "source": [
    "# удаляем выбросы по площади\n",
    "df_mean = df['area'].mean()\n",
    "df_std = df['area'].std()\n",
    "df = df[(df['area'] > df_mean - 0.5 * df_std) & (df['area'] < df_mean + 2 * df_std)]"
   ]
  },
  {
   "cell_type": "code",
   "execution_count": 259,
   "id": "01bb6828",
   "metadata": {},
   "outputs": [],
   "source": [
    "# удаляем столбец additional\n",
    "df.drop(columns=['additional'], inplace=True)"
   ]
  },
  {
   "cell_type": "code",
   "execution_count": 260,
   "id": "1ea35162",
   "metadata": {},
   "outputs": [
    {
     "data": {
      "image/png": "[encoded data removed]",
      "text/plain": [
       "<Figure size 640x480 with 1 Axes>"
      ]
     },
     "metadata": {},
     "output_type": "display_data"
    }
   ],
   "source": [
    "# оставляем в столбце building_info только номер этажа и переименуем в floor\n",
    "df['building_info'] = df['building_info'].str.split('/').str[0].astype(int)\n",
    "df.rename(columns={'building_info': 'floor'}, inplace=True)\n",
    "# удаляем выброс по этажу\n",
    "sns.scatterplot(data=df, x = 'price', y = 'floor')\n",
    "df = df[df['floor'] != 75]"
   ]
  },
  {
   "cell_type": "code",
   "execution_count": 261,
   "id": "0b6102ad",
   "metadata": {},
   "outputs": [
    {
     "data": {
      "text/html": [
       "<div>\n",
       "<style scoped>\n",
       "    .dataframe tbody tr th:only-of-type {\n",
       "        vertical-align: middle;\n",
       "    }\n",
       "\n",
       "    .dataframe tbody tr th {\n",
       "        vertical-align: top;\n",
       "    }\n",
       "\n",
       "    .dataframe thead th {\n",
       "        text-align: right;\n",
       "    }\n",
       "</style>\n",
       "<table border=\"1\" class=\"dataframe\">\n",
       "  <thead>\n",
       "    <tr style=\"text-align: right;\">\n",
       "      <th></th>\n",
       "      <th>id</th>\n",
       "      <th>rooms</th>\n",
       "      <th>metro</th>\n",
       "      <th>area</th>\n",
       "      <th>floor</th>\n",
       "      <th>parking</th>\n",
       "      <th>price</th>\n",
       "      <th>renovation</th>\n",
       "      <th>room_area</th>\n",
       "      <th>balcony</th>\n",
       "      <th>windows</th>\n",
       "      <th>bathroom</th>\n",
       "      <th>allowed_children_pets</th>\n",
       "      <th>ceiling_height</th>\n",
       "      <th>city</th>\n",
       "    </tr>\n",
       "  </thead>\n",
       "  <tbody>\n",
       "    <tr>\n",
       "      <th>4</th>\n",
       "      <td>273614615</td>\n",
       "      <td>2</td>\n",
       "      <td>Арбатская</td>\n",
       "      <td>58.0</td>\n",
       "      <td>12</td>\n",
       "      <td>unknown</td>\n",
       "      <td>225000.0</td>\n",
       "      <td>Евроремонт</td>\n",
       "      <td>19.0</td>\n",
       "      <td>unknown</td>\n",
       "      <td>На улицу и двор</td>\n",
       "      <td>Совмещенный (2)</td>\n",
       "      <td>unknown</td>\n",
       "      <td>3.9</td>\n",
       "      <td>Москва</td>\n",
       "    </tr>\n",
       "    <tr>\n",
       "      <th>7</th>\n",
       "      <td>274475342</td>\n",
       "      <td>3</td>\n",
       "      <td>Смоленская</td>\n",
       "      <td>98.0</td>\n",
       "      <td>2</td>\n",
       "      <td>подземная</td>\n",
       "      <td>250000.0</td>\n",
       "      <td>Евроремонт</td>\n",
       "      <td>21.0</td>\n",
       "      <td>unknown</td>\n",
       "      <td>Во двор</td>\n",
       "      <td>Совмещенный (1), Раздельный (1)</td>\n",
       "      <td>Можно с детьми, Можно с животными</td>\n",
       "      <td>3.2</td>\n",
       "      <td>Москва</td>\n",
       "    </tr>\n",
       "  </tbody>\n",
       "</table>\n",
       "</div>"
      ],
      "text/plain": [
       "          id  rooms       metro  area  floor    parking     price  renovation  \\\n",
       "4  273614615      2   Арбатская  58.0     12    unknown  225000.0  Евроремонт   \n",
       "7  274475342      3  Смоленская  98.0      2  подземная  250000.0  Евроремонт   \n",
       "\n",
       "   room_area  balcony          windows                         bathroom  \\\n",
       "4       19.0  unknown  На улицу и двор                  Совмещенный (2)   \n",
       "7       21.0  unknown          Во двор  Совмещенный (1), Раздельный (1)   \n",
       "\n",
       "               allowed_children_pets  ceiling_height    city  \n",
       "4                            unknown             3.9  Москва  \n",
       "7  Можно с детьми, Можно с животными             3.2  Москва  "
      ]
     },
     "execution_count": 261,
     "metadata": {},
     "output_type": "execute_result"
    }
   ],
   "source": [
    "#Удаляем адрес, оставляем только город\n",
    "df['city'] = df['address'].str.split(',').str[0]\n",
    "df.drop(columns=['address'], inplace=True)\n",
    "df.head(2)"
   ]
  },
  {
   "cell_type": "code",
   "execution_count": 262,
   "id": "aee778c1",
   "metadata": {},
   "outputs": [],
   "source": [
    "# сохраняем отредактированный датафрейм\n",
    "# df.to_csv('data.csv', encoding='utf-8')"
   ]
  },
  {
   "cell_type": "code",
   "execution_count": null,
   "id": "dfc34f7e",
   "metadata": {},
   "outputs": [
    {
     "name": "stdout",
     "output_type": "stream",
     "text": [
      "['Арбатская' 'Смоленская' 'Кропоткинская' 'Боровицкая' 'Краснопресненская'\n",
      " 'Баррикадная' 'Марк' 'Алтуфьево' 'Долгопрудная' 'Новодачная'\n",
      " 'Селигерская' 'Кузнецкий мост' 'Проспект Мира' 'Трубная' 'Сухаревская'\n",
      " 'Комсомольская' 'Цветной бульвар' 'Рижская' 'Достоевская' 'Марьина роща'\n",
      " 'Коломенская' 'Кожуховская' 'Технопарк' 'Ленинский проспект'\n",
      " 'Автозаводская' 'Пражская' 'Алма-Атинская' 'Царицыно' 'Тульская'\n",
      " 'Шипиловская' 'Кантемировская' 'Зябликово' 'Орехово' 'Дубровка'\n",
      " 'Чертановская' 'Каховская' 'ЗИЛ' 'Павелецкая' 'Нагорная' 'Каширская'\n",
      " 'Крымская' 'Верхние котлы' 'Красногвардейская' 'unknown' 'Лесопарковая'\n",
      " 'Покровское' 'Домодедовская' 'Аннино' 'Варшавская' 'Нагатинская'\n",
      " 'Крестьянская застава' 'Пролетарская' 'Площадь Гагарина'\n",
      " 'Улица Академика Янгеля' 'Нахимовский проспект' 'Севастопольская' 'Битца'\n",
      " 'Южная' 'Новочеркасская' 'Ладожская' 'Лесная' 'Площадь Ленина'\n",
      " 'Проспект Большевиков' 'Академическая' 'Девяткино' 'Гражданский проспект'\n",
      " 'Площадь Александра Невского' 'Московская' 'Звездная' 'Фрунзенская'\n",
      " 'Электросила' 'Парк Победы' 'Купчино' 'Проспект Славы'\n",
      " 'Московские ворота' 'Митино' 'Волоколамская' 'Пятницкое шоссе' 'Пенягино'\n",
      " 'Люблино' 'Волжская' 'Братиславская' 'Перерва' 'Депо' 'Печатники'\n",
      " 'Кубанская' 'Планерная' 'Ховрино' 'Речной вокзал' 'Сходненская'\n",
      " 'Кузьминки' 'Окская' 'Рязанский проспект' 'Текстильщики' 'Коптево'\n",
      " 'Красный Балтиец' 'Войковская' 'Верхние Лихоборы' 'Окружная' 'Лихоборы'\n",
      " 'Петровско-Разумовская' 'Борисово' 'Бибирево' 'Владыкино' 'Отрадное'\n",
      " 'Дегунино' 'Строгино' 'Мякинино' 'Водный стадион' 'Беломорская'\n",
      " 'Москворечье' 'Ростокино' 'ВДНХ' 'Ботанический сад'\n",
      " 'Улица Сергея Эйзенштейна' 'Серпуховская' 'Третьяковская' 'Новокузнецкая'\n",
      " 'Шаболовская' 'Добрынинская' 'Таганская' 'Мичуринский проспект'\n",
      " 'Славянский бульвар' 'Минская' 'Озерная' 'Аминьевская' 'Раменки'\n",
      " 'Проспект Вернадского' 'Давыдково' 'Щелковская' 'Первомайская'\n",
      " 'Черкизовская' 'Измайловская' 'Локомотив' 'Бабушкинская' 'Свиблово'\n",
      " 'Медведково' 'Багратионовская' 'Ломоносовский проспект' 'Киевская'\n",
      " 'Рабочий поселок' 'Юго-Западная' 'Кунцевская' 'Кутузовская' 'Говорово'\n",
      " 'Молодежная' 'Выставочная' 'Университет' 'Крылатское' 'Шелепиха'\n",
      " 'Студенческая' 'Фили' 'Тропарево' 'Филевский парк' 'Новопеределкино'\n",
      " 'Соколиная гора' 'Измайлово' 'Шоссе Энтузиастов' 'Семеновская'\n",
      " 'Лефортово' 'Партизанская' 'Электрозаводская' 'Сокол' 'Панфиловская'\n",
      " 'Стрешнево' 'Октябрьское поле' 'Зорге' 'Покровское-Стрешнево'\n",
      " 'Полежаевская' 'Аэропорт' 'Деловой центр' 'Международная' 'Маяковская'\n",
      " 'Тестовская' 'Лужники' 'Белорусская' 'Красные ворота' 'Китай-город'\n",
      " 'Тверская' 'Полянка' 'Новослободская' 'Пушкинская' 'Дмитровская'\n",
      " 'Менделеевская' 'Алексеевская' 'Тимирязевская' 'Улица Академика Королева'\n",
      " 'Фонвизинская' 'Савеловская' 'Выхино' 'Юго-Восточная' 'Жулебино'\n",
      " 'Котельники' 'Лермонтовский проспект' 'Косино' 'Преображенская площадь'\n",
      " 'Бульвар Рокоссовского' 'Белокаменная' 'Римская' 'Бауманская'\n",
      " 'Волгоградский проспект' 'Авиамоторная' 'Некрасовка' 'Стахановская'\n",
      " 'Марьино' 'Угрешская' 'Курьяново' 'Площадь Ильича' 'Нижегородская'\n",
      " 'Щукинская' 'улица Народного ополчения' 'Тушинская' 'Хорошево'\n",
      " 'Народное ополчение' 'Бутырская' 'Телецентр' 'Москва-Товарная' 'Зюзино'\n",
      " 'Проспект Ветеранов' 'Автово' 'Беговая' 'Курская' 'Чистые пруды'\n",
      " 'Чкаловская' 'Яхромская' 'Лианозово' 'Бескудниково' 'Новоясеневская'\n",
      " 'Ясенево' 'Теплый Стан' 'Битцевский парк' 'Беляево' 'Калужская'\n",
      " 'Коньково' 'Марксистская' 'Красносельская' 'Лубянка' 'Тургеневская'\n",
      " 'Сретенский бульвар' 'Каланчёвская' 'Профсоюзная' 'Спартак'\n",
      " 'Новые Черемушки' 'Гражданская' 'Динамо' 'Спортивная' 'Петроградская'\n",
      " 'Горьковская' 'Крестовский остров' 'Черная речка' 'Выборгская'\n",
      " 'Площадь Мужества' 'Политехническая' 'Перово' 'Лухмановская' 'Сокольники'\n",
      " 'Новокосино' 'Новогиреево' 'Улица 1905 года' 'Охотный ряд' 'Рыбацкое'\n",
      " 'Щербинка' 'Улица Скобелевская' 'Улица Горчакова' 'Бунинская аллея'\n",
      " 'Бутово' 'Бульвар Адмирала Ушакова' 'Бульвар Дмитрия Донского'\n",
      " 'Новаторская' 'Воробьевы горы' 'Мневники' 'Сколково' 'Сетунь'\n",
      " 'Немчиновка' 'Петровский Парк' 'ЦСКА' 'Хорошевская' 'Красный Строитель'\n",
      " 'Парк Культуры' 'Боровское шоссе' 'Рассказовка' 'Солнцево'\n",
      " 'Новохохловская' 'Улица Милашенкова' 'Нахабино' 'Воронцовская'\n",
      " 'Пионерская' 'Проспект Просвещения' 'Комендантский проспект' 'Удельная'\n",
      " 'Озерки' 'Старая Деревня' 'Сенная площадь' 'Адмиралтейская' 'Садовая'\n",
      " 'Технологический институт' 'Нарвская' 'Звенигородская' 'Балтийская'\n",
      " 'Василеостровская' 'Трикотажная' 'Калитники' 'Румянцево' 'Саларьево'\n",
      " 'Октябрьская' 'Библиотека им. Ленина' 'Площадь Восстания' 'Чернышевская'\n",
      " 'Невский проспект' 'Гостиный двор' 'Обводный канал' 'Лиговский проспект'\n",
      " 'Владимирская' 'Выставочный центр' 'Улица Старокачаловская'\n",
      " 'Ломоносовская' 'Улица Дыбенко' 'Елизаровская' 'Парнас' 'Приморская'\n",
      " 'Чеховская' 'Павшино' 'Кировский завод' 'Дунайская' 'Бухарестская'\n",
      " 'Волковская' 'Шушары' 'Улица Дмитриевского']\n"
     ]
    }
   ],
   "source": [
    "# проверяем по числовым значениям минимальные и максимальные\n",
    "# min_floor = df['price'].min()\n",
    "# max_floor = df['price'].max()\n",
    "# print(min_floor, max_floor)\n",
    "# проверяем по категориальным и числовым значениям уникальные значения и сколько их\n",
    "# unique_val = df['metro'].unique()\n",
    "# print(unique_val)\n",
    "# unique_values = df['metro'].nunique()\n",
    "# print(unique_values)"
   ]
  },
  {
   "cell_type": "code",
   "execution_count": null,
   "id": "642bd589",
   "metadata": {},
   "outputs": [],
   "source": []
  },
  {
   "cell_type": "code",
   "execution_count": null,
   "id": "1cd431b6",
   "metadata": {},
   "outputs": [],
   "source": []
  },
  {
   "cell_type": "code",
   "execution_count": null,
   "id": "b61308f8",
   "metadata": {},
   "outputs": [],
   "source": []
  },
  {
   "cell_type": "code",
   "execution_count": null,
   "id": "bcb1511b",
   "metadata": {},
   "outputs": [],
   "source": []
  },
  {
   "cell_type": "code",
   "execution_count": null,
   "id": "3fe4ba09",
   "metadata": {},
   "outputs": [],
   "source": []
  },
  {
   "cell_type": "code",
   "execution_count": null,
   "id": "0601b43b",
   "metadata": {},
   "outputs": [],
   "source": []
  },
  {
   "cell_type": "code",
   "execution_count": null,
   "id": "71d8aedf",
   "metadata": {},
   "outputs": [],
   "source": []
  },
  {
   "cell_type": "code",
   "execution_count": null,
   "id": "3ee669d2",
   "metadata": {},
   "outputs": [],
   "source": []
  },
  {
   "cell_type": "code",
   "execution_count": null,
   "id": "0e542e29",
   "metadata": {},
   "outputs": [],
   "source": []
  },
  {
   "cell_type": "code",
   "execution_count": null,
   "id": "8b037926",
   "metadata": {},
   "outputs": [],
   "source": []
  },
  {
   "cell_type": "code",
   "execution_count": null,
   "id": "6c7f292b",
   "metadata": {},
   "outputs": [],
   "source": []
  },
  {
   "cell_type": "code",
   "execution_count": null,
   "id": "48122a17",
   "metadata": {},
   "outputs": [],
   "source": []
  },
  {
   "cell_type": "code",
   "execution_count": null,
   "id": "08fc103a",
   "metadata": {},
   "outputs": [],
   "source": []
  }
 ],
 "metadata": {
  "kernelspec": {
   "display_name": "Python (project)",
   "language": "python",
   "name": "project"
  },
  "language_info": {
   "codemirror_mode": {
    "name": "ipython",
    "version": 3
   },
   "file_extension": ".py",
   "mimetype": "text/x-python",
   "name": "python",
   "nbconvert_exporter": "python",
   "pygments_lexer": "ipython3",
   "version": "3.10.18"
  }
 },
 "nbformat": 4,
 "nbformat_minor": 5
}
